{
 "cells": [
  {
   "cell_type": "code",
   "execution_count": 1,
   "metadata": {},
   "outputs": [],
   "source": [
    "import torch\n",
    "from torchvision import transforms\n",
    "\n",
    "from aim_perception.training import Trainer\n",
    "from aim_perception.evaluation import Evaluation\n",
    "from aim_perception.models import ResNet34, ModelWrapper, LinearHead\n",
    "from aim_perception.loading import AimDataset, AimDatasetConstructor\n"
   ]
  },
  {
   "cell_type": "code",
   "execution_count": 2,
   "metadata": {},
   "outputs": [],
   "source": [
    "abs_path = '/Users/mjfagundo/Documents/vehicle_dataset'\n",
    "image_path = 'data'\n",
    "label_path = 'ground_truth.csv'"
   ]
  },
  {
   "cell_type": "code",
   "execution_count": 3,
   "metadata": {},
   "outputs": [
    {
     "name": "stdout",
     "output_type": "stream",
     "text": [
      "Train percent: 75.00150253026095\n",
      "Val percent: 14.99885807700167\n",
      "Test percent: 9.99963939273737\n"
     ]
    }
   ],
   "source": [
    "\n",
    "dataset_constructor = AimDatasetConstructor(\n",
    "    root_dir=abs_path,\n",
    "    csv_path=label_path,\n",
    "    data_subdir=image_path,\n",
    "    transforms=[\n",
    "        transforms.ToTensor(),\n",
    "        transforms.Resize(size=(96, 96)),\n",
    "        transforms.Normalize(mean=[0.4886, 0.4855, 0.4838], std=[0.2456, 0.2443, 0.2490])\n",
    "    ]\n",
    ")"
   ]
  },
  {
   "cell_type": "code",
   "execution_count": 4,
   "metadata": {},
   "outputs": [],
   "source": [
    "train, val, test = dataset_constructor.get_all_datasets()"
   ]
  },
  {
   "cell_type": "code",
   "execution_count": 5,
   "metadata": {},
   "outputs": [],
   "source": [
    "from aim_perception.models import ModelWrapper, LinearHead\n",
    "# from torchvision.models import resnet50, ResNet50_Weights\n",
    "\n",
    "epochs = 6\n",
    "batch_size = 64\n",
    "learning_rate = 1e-1\n",
    "weight_decay = 1e-4\n",
    "\n",
    "\n",
    "# Create loaders\n",
    "train_loader = torch.utils.data.DataLoader(train, batch_size=batch_size, shuffle=True, num_workers=2)\n",
    "val_loader = torch.utils.data.DataLoader(val, batch_size=batch_size*2, shuffle=True, num_workers=2)\n",
    "\n",
    "# Create model\n",
    "# model = ModelWrapper(resnet50(weights=ResNet50_Weights.IMAGENET1K_V2), LinearHead(input_size=1000, num_targets=10))\n",
    "model = ModelWrapper(ResNet34(in_channels=3, depthwise_separable=True), LinearHead(input_size=512, num_targets=10))\n",
    "\n",
    "# Optimizer and loss\n",
    "criterion = torch.nn.CrossEntropyLoss(weight=train.get_class_weights())\n",
    "optimizer = torch.optim.Adam(model.parameters(), lr=learning_rate, weight_decay=weight_decay)\n",
    "scheduler = torch.optim.lr_scheduler.StepLR(optimizer, step_size=2, gamma=0.1)\n",
    "\n"
   ]
  },
  {
   "cell_type": "code",
   "execution_count": 6,
   "metadata": {},
   "outputs": [
    {
     "name": "stderr",
     "output_type": "stream",
     "text": [
      "Failed to detect the name of this notebook, you can set it manually with the WANDB_NOTEBOOK_NAME environment variable to enable code saving.\n",
      "\u001b[34m\u001b[1mwandb\u001b[0m: Currently logged in as: \u001b[33mfagundo\u001b[0m. Use \u001b[1m`wandb login --relogin`\u001b[0m to force relogin\n"
     ]
    },
    {
     "data": {
      "text/html": [
       "Tracking run with wandb version 0.13.5"
      ],
      "text/plain": [
       "<IPython.core.display.HTML object>"
      ]
     },
     "metadata": {},
     "output_type": "display_data"
    },
    {
     "data": {
      "text/html": [
       "Run data is saved locally in <code>/Users/mjfagundo/Documents/aim/aim-perception/wandb/run-20221103_203426-3055thlt</code>"
      ],
      "text/plain": [
       "<IPython.core.display.HTML object>"
      ]
     },
     "metadata": {},
     "output_type": "display_data"
    },
    {
     "data": {
      "text/html": [
       "Syncing run <strong><a href=\"https://wandb.ai/fagundo/test/runs/3055thlt\" target=\"_blank\">2022-11-04T03:34:23.894613</a></strong> to <a href=\"https://wandb.ai/fagundo/test\" target=\"_blank\">Weights & Biases</a> (<a href=\"https://wandb.me/run\" target=\"_blank\">docs</a>)<br/>"
      ],
      "text/plain": [
       "<IPython.core.display.HTML object>"
      ]
     },
     "metadata": {},
     "output_type": "display_data"
    },
    {
     "name": "stdout",
     "output_type": "stream",
     "text": [
      "[1,    51] train loss: 3.401 | val loss: 2.344 | val bal-acc: 0.100\n"
     ]
    }
   ],
   "source": [
    "trainer = Trainer(epochs=6, validate_every=50, criterion=criterion, optimizer=optimizer, scheduler=scheduler, wandb_project='test')\n",
    "trainer(model=model, train_loader=train_loader, val_loader=val_loader)"
   ]
  },
  {
   "cell_type": "code",
   "execution_count": null,
   "metadata": {},
   "outputs": [],
   "source": []
  }
 ],
 "metadata": {
  "kernelspec": {
   "display_name": "Python 3.8.13 ('aim')",
   "language": "python",
   "name": "python3"
  },
  "language_info": {
   "codemirror_mode": {
    "name": "ipython",
    "version": 3
   },
   "file_extension": ".py",
   "mimetype": "text/x-python",
   "name": "python",
   "nbconvert_exporter": "python",
   "pygments_lexer": "ipython3",
   "version": "3.8.13"
  },
  "orig_nbformat": 4,
  "vscode": {
   "interpreter": {
    "hash": "05da935ce08ac25e4383be47ed2c8d9b6cf07bba603df3a599f6512d6fb3fb87"
   }
  }
 },
 "nbformat": 4,
 "nbformat_minor": 2
}
