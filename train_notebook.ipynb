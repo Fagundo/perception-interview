{
 "cells": [
  {
   "cell_type": "code",
   "execution_count": 1,
   "metadata": {},
   "outputs": [
    {
     "name": "stderr",
     "output_type": "stream",
     "text": [
      "/home/ubuntu/.local/lib/python3.8/site-packages/pandas/core/computation/expressions.py:20: UserWarning: Pandas requires version '2.7.3' or newer of 'numexpr' (version '2.7.1' currently installed).\n",
      "  from pandas.core.computation.check import NUMEXPR_INSTALLED\n"
     ]
    }
   ],
   "source": [
    "import torch\n",
    "from torchvision import transforms\n",
    "\n",
    "from aim_perception.training import Trainer\n",
    "from aim_perception.models import ResNet, ModelWrapper, MultiClassMlpHead\n",
    "from aim_perception.loading import AimDatasetConstructor"
   ]
  },
  {
   "cell_type": "code",
   "execution_count": 2,
   "metadata": {},
   "outputs": [],
   "source": [
    "abs_path = '/home/ubuntu/aim/vehicle_dataset'\n",
    "image_path = 'data'\n",
    "label_path = 'ground_truth.csv'"
   ]
  },
  {
   "cell_type": "code",
   "execution_count": 3,
   "metadata": {},
   "outputs": [
    {
     "name": "stdout",
     "output_type": "stream",
     "text": [
      "Train percent: 75.00150253026095\n",
      "Val percent: 14.99885807700167\n",
      "Test percent: 9.99963939273737\n"
     ]
    }
   ],
   "source": [
    "\n",
    "dataset_constructor = AimDatasetConstructor(\n",
    "    root_dir=abs_path,\n",
    "    csv_path=label_path,\n",
    "    data_subdir=image_path,\n",
    "    transforms=[\n",
    "        transforms.ToTensor(),\n",
    "        transforms.Resize(size=(96, 96)),\n",
    "        transforms.Normalize(mean=[0.4886, 0.4855, 0.4838], std=[0.2456, 0.2443, 0.2490])\n",
    "    ]\n",
    ")"
   ]
  },
  {
   "cell_type": "code",
   "execution_count": 4,
   "metadata": {},
   "outputs": [],
   "source": [
    "train, val, test = dataset_constructor.get_all_datasets()"
   ]
  },
  {
   "cell_type": "code",
   "execution_count": 5,
   "metadata": {},
   "outputs": [],
   "source": [
    "import torch\n",
    "from torch import nn\n",
    "from torchvision.models import resnet18, ResNet18_Weights\n",
    "\n",
    "epochs = 16\n",
    "batch_size = 128\n",
    "momentum = 0.9\n",
    "learning_rate = 1e-1\n",
    "weight_decay = 1e-5\n",
    "\n",
    "# Create loaders\n",
    "train_loader = torch.utils.data.DataLoader(train, batch_size=batch_size, shuffle=True, num_workers=2)\n",
    "val_loader = torch.utils.data.DataLoader(val, batch_size=batch_size*2, shuffle=True, num_workers=2)\n",
    "\n",
    "# Create model\n",
    "backbone = ResNet.resnet_18(in_channels=3, depthwise_separable=False)\n",
    "head = MultiClassMlpHead(\n",
    "    input_size=512, \n",
    "    inner_dim=128,  \n",
    "    num_targets=10, \n",
    "    bias=True,\n",
    "    dropout=0.05, \n",
    "    norm=nn.BatchNorm1d\n",
    ")\n",
    "model = ModelWrapper(backbone=backbone, head=head)\n",
    "\n",
    "# Optimizer and loss\n",
    "criterion = torch.nn.CrossEntropyLoss(weight=train.get_class_weights().to('cuda'))\n",
    "optimizer = torch.optim.SGD(model.parameters(), lr=learning_rate, weight_decay=weight_decay, momentum=momentum)\n",
    "scheduler = torch.optim.lr_scheduler.StepLR(optimizer, step_size=4, gamma=0.1)\n",
    "\n"
   ]
  },
  {
   "cell_type": "code",
   "execution_count": 6,
   "metadata": {},
   "outputs": [
    {
     "name": "stderr",
     "output_type": "stream",
     "text": [
      "Failed to detect the name of this notebook, you can set it manually with the WANDB_NOTEBOOK_NAME environment variable to enable code saving.\n",
      "wandb: Currently logged in as: fagundo. Use `wandb login --relogin` to force relogin\n"
     ]
    },
    {
     "data": {
      "text/html": [
       "Tracking run with wandb version 0.13.5"
      ],
      "text/plain": [
       "<IPython.core.display.HTML object>"
      ]
     },
     "metadata": {},
     "output_type": "display_data"
    },
    {
     "data": {
      "text/html": [
       "Run data is saved locally in <code>/home/ubuntu/aim/aim-perception/wandb/run-20221104_211259-2crgx2zu</code>"
      ],
      "text/plain": [
       "<IPython.core.display.HTML object>"
      ]
     },
     "metadata": {},
     "output_type": "display_data"
    },
    {
     "data": {
      "text/html": [
       "Syncing run <strong><a href=\"https://wandb.ai/fagundo/test/runs/2crgx2zu\" target=\"_blank\">2022-11-04T21:12:57.911439</a></strong> to <a href=\"https://wandb.ai/fagundo/test\" target=\"_blank\">Weights & Biases</a> (<a href=\"https://wandb.me/run\" target=\"_blank\">docs</a>)<br/>"
      ],
      "text/plain": [
       "<IPython.core.display.HTML object>"
      ]
     },
     "metadata": {},
     "output_type": "display_data"
    },
    {
     "name": "stdout",
     "output_type": "stream",
     "text": [
      "Moving model to cuda...\n",
      "[1,   101] train loss: 2.240 | val loss: 2.138 | val bal-acc: 0.330\n",
      "[1,   201] train loss: 2.086 | val loss: 2.080 | val bal-acc: 0.388\n",
      "[1,   301] train loss: 2.029 | val loss: 2.042 | val bal-acc: 0.435\n",
      "[1,   401] train loss: 2.026 | val loss: 1.974 | val bal-acc: 0.499\n",
      "-------- Finished Epoch 1 --------\n",
      "[2,   101] train loss: 1.966 | val loss: 1.952 | val bal-acc: 0.522\n",
      "[2,   201] train loss: 1.963 | val loss: 1.941 | val bal-acc: 0.530\n",
      "[2,   301] train loss: 1.917 | val loss: 1.913 | val bal-acc: 0.556\n",
      "[2,   401] train loss: 1.874 | val loss: 1.919 | val bal-acc: 0.551\n",
      "-------- Finished Epoch 2 --------\n",
      "[3,   101] train loss: 1.860 | val loss: 1.896 | val bal-acc: 0.573\n",
      "[3,   201] train loss: 1.858 | val loss: 1.879 | val bal-acc: 0.590\n",
      "[3,   301] train loss: 1.831 | val loss: 1.844 | val bal-acc: 0.627\n",
      "[3,   401] train loss: 1.892 | val loss: 1.915 | val bal-acc: 0.552\n",
      "-------- Finished Epoch 3 --------\n",
      "[4,   101] train loss: 1.841 | val loss: 1.847 | val bal-acc: 0.623\n",
      "[4,   201] train loss: 1.817 | val loss: 1.855 | val bal-acc: 0.616\n",
      "[4,   301] train loss: 1.826 | val loss: 1.824 | val bal-acc: 0.645\n",
      "[4,   401] train loss: 1.786 | val loss: 1.819 | val bal-acc: 0.650\n",
      "-------- Finished Epoch 4 --------\n",
      "[5,   101] train loss: 1.768 | val loss: 1.779 | val bal-acc: 0.695\n",
      "[5,   201] train loss: 1.727 | val loss: 1.766 | val bal-acc: 0.705\n",
      "[5,   301] train loss: 1.742 | val loss: 1.758 | val bal-acc: 0.715\n",
      "[5,   401] train loss: 1.726 | val loss: 1.753 | val bal-acc: 0.717\n",
      "-------- Finished Epoch 5 --------\n",
      "[6,   101] train loss: 1.699 | val loss: 1.746 | val bal-acc: 0.726\n",
      "[6,   201] train loss: 1.701 | val loss: 1.743 | val bal-acc: 0.727\n",
      "[6,   301] train loss: 1.724 | val loss: 1.742 | val bal-acc: 0.730\n",
      "[6,   401] train loss: 1.686 | val loss: 1.735 | val bal-acc: 0.736\n",
      "-------- Finished Epoch 6 --------\n",
      "[7,   101] train loss: 1.695 | val loss: 1.735 | val bal-acc: 0.739\n",
      "[7,   201] train loss: 1.687 | val loss: 1.735 | val bal-acc: 0.735\n",
      "[7,   301] train loss: 1.668 | val loss: 1.727 | val bal-acc: 0.745\n",
      "[7,   401] train loss: 1.671 | val loss: 1.726 | val bal-acc: 0.746\n",
      "-------- Finished Epoch 7 --------\n",
      "[8,   101] train loss: 1.688 | val loss: 1.721 | val bal-acc: 0.750\n",
      "[8,   201] train loss: 1.669 | val loss: 1.723 | val bal-acc: 0.749\n",
      "[8,   301] train loss: 1.664 | val loss: 1.717 | val bal-acc: 0.755\n",
      "[8,   401] train loss: 1.636 | val loss: 1.717 | val bal-acc: 0.755\n",
      "-------- Finished Epoch 8 --------\n",
      "[9,   101] train loss: 1.628 | val loss: 1.715 | val bal-acc: 0.756\n",
      "[9,   201] train loss: 1.645 | val loss: 1.717 | val bal-acc: 0.753\n",
      "[9,   301] train loss: 1.630 | val loss: 1.716 | val bal-acc: 0.754\n",
      "[9,   401] train loss: 1.652 | val loss: 1.714 | val bal-acc: 0.757\n",
      "-------- Finished Epoch 9 --------\n",
      "[10,   101] train loss: 1.646 | val loss: 1.716 | val bal-acc: 0.754\n",
      "[10,   201] train loss: 1.610 | val loss: 1.716 | val bal-acc: 0.756\n",
      "[10,   301] train loss: 1.644 | val loss: 1.713 | val bal-acc: 0.760\n",
      "[10,   401] train loss: 1.626 | val loss: 1.713 | val bal-acc: 0.758\n",
      "-------- Finished Epoch 10 --------\n",
      "[11,   101] train loss: 1.650 | val loss: 1.713 | val bal-acc: 0.756\n",
      "[11,   201] train loss: 1.605 | val loss: 1.714 | val bal-acc: 0.759\n",
      "[11,   301] train loss: 1.622 | val loss: 1.714 | val bal-acc: 0.759\n",
      "[11,   401] train loss: 1.649 | val loss: 1.715 | val bal-acc: 0.756\n",
      "-------- Finished Epoch 11 --------\n",
      "[12,   101] train loss: 1.634 | val loss: 1.714 | val bal-acc: 0.756\n",
      "[12,   201] train loss: 1.637 | val loss: 1.713 | val bal-acc: 0.759\n",
      "[12,   301] train loss: 1.638 | val loss: 1.713 | val bal-acc: 0.758\n",
      "[12,   401] train loss: 1.616 | val loss: 1.713 | val bal-acc: 0.758\n",
      "-------- Finished Epoch 12 --------\n",
      "[13,   101] train loss: 1.636 | val loss: 1.714 | val bal-acc: 0.761\n",
      "[13,   201] train loss: 1.623 | val loss: 1.712 | val bal-acc: 0.758\n",
      "[13,   301] train loss: 1.629 | val loss: 1.712 | val bal-acc: 0.758\n",
      "[13,   401] train loss: 1.627 | val loss: 1.713 | val bal-acc: 0.758\n",
      "-------- Finished Epoch 13 --------\n",
      "[14,   101] train loss: 1.655 | val loss: 1.714 | val bal-acc: 0.757\n",
      "[14,   201] train loss: 1.609 | val loss: 1.714 | val bal-acc: 0.758\n",
      "[14,   301] train loss: 1.634 | val loss: 1.715 | val bal-acc: 0.758\n",
      "[14,   401] train loss: 1.627 | val loss: 1.714 | val bal-acc: 0.761\n",
      "-------- Finished Epoch 14 --------\n",
      "[15,   101] train loss: 1.641 | val loss: 1.712 | val bal-acc: 0.759\n",
      "[15,   201] train loss: 1.617 | val loss: 1.713 | val bal-acc: 0.760\n",
      "[15,   301] train loss: 1.633 | val loss: 1.712 | val bal-acc: 0.760\n",
      "[15,   401] train loss: 1.613 | val loss: 1.713 | val bal-acc: 0.757\n",
      "-------- Finished Epoch 15 --------\n",
      "[16,   101] train loss: 1.648 | val loss: 1.712 | val bal-acc: 0.759\n",
      "[16,   201] train loss: 1.596 | val loss: 1.712 | val bal-acc: 0.758\n",
      "[16,   301] train loss: 1.639 | val loss: 1.713 | val bal-acc: 0.758\n",
      "[16,   401] train loss: 1.608 | val loss: 1.711 | val bal-acc: 0.765\n",
      "-------- Finished Epoch 16 --------\n",
      "-------- Finished Training --------\n",
      "[16,   488] train loss: 1.434 | val loss: 1.713 | val bal-acc: 0.760\n"
     ]
    }
   ],
   "source": [
    "trainer = Trainer(epochs=epochs, validate_every=100, criterion=criterion, optimizer=optimizer, scheduler=scheduler, wandb_project='test')\n",
    "eval = trainer(model=model, train_loader=train_loader, val_loader=val_loader)"
   ]
  },
  {
   "cell_type": "code",
   "execution_count": 8,
   "metadata": {},
   "outputs": [
    {
     "name": "stdout",
     "output_type": "stream",
     "text": [
      "              precision    recall  f1-score   support\n",
      "\n",
      "           0       0.79      0.79      0.79      1267\n",
      "           1       0.68      0.80      0.74       277\n",
      "           2       0.89      0.92      0.90      1192\n",
      "           3       0.88      0.74      0.80      4548\n",
      "           4       0.57      0.81      0.67       245\n",
      "           5       0.32      0.58      0.42       212\n",
      "           6       0.76      0.84      0.80       748\n",
      "           7       0.75      0.76      0.75      2208\n",
      "           8       0.55      0.59      0.57       638\n",
      "           9       0.66      0.77      0.71      1143\n",
      "\n",
      "    accuracy                           0.77     12478\n",
      "   macro avg       0.68      0.76      0.71     12478\n",
      "weighted avg       0.78      0.77      0.77     12478\n",
      "\n"
     ]
    }
   ],
   "source": [
    "print(eval.classification_report)"
   ]
  },
  {
   "cell_type": "code",
   "execution_count": null,
   "metadata": {},
   "outputs": [],
   "source": []
  }
 ],
 "metadata": {
  "kernelspec": {
   "display_name": "Python 3.8.10 64-bit",
   "language": "python",
   "name": "python3"
  },
  "language_info": {
   "codemirror_mode": {
    "name": "ipython",
    "version": 3
   },
   "file_extension": ".py",
   "mimetype": "text/x-python",
   "name": "python",
   "nbconvert_exporter": "python",
   "pygments_lexer": "ipython3",
   "version": "3.8.10"
  },
  "orig_nbformat": 4,
  "vscode": {
   "interpreter": {
    "hash": "767d51c1340bd893661ea55ea3124f6de3c7a262a8b4abca0554b478b1e2ff90"
   }
  }
 },
 "nbformat": 4,
 "nbformat_minor": 2
}
