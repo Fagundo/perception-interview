{
 "cells": [
  {
   "cell_type": "code",
   "execution_count": 1,
   "metadata": {},
   "outputs": [
    {
     "ename": "ImportError",
     "evalue": "cannot import name 'InferenceEvaluation' from 'aim_perception' (/home/ubuntu/aim/aim-perception/aim_perception/__init__.py)",
     "output_type": "error",
     "traceback": [
      "\u001b[0;31m---------------------------------------------------------------------------\u001b[0m",
      "\u001b[0;31mImportError\u001b[0m                               Traceback (most recent call last)",
      "\u001b[0;32m<ipython-input-1-75bf59f493ca>\u001b[0m in \u001b[0;36m<module>\u001b[0;34m\u001b[0m\n\u001b[1;32m      1\u001b[0m \u001b[0;32mfrom\u001b[0m \u001b[0maim_perception\u001b[0m \u001b[0;32mimport\u001b[0m \u001b[0mpipeline\u001b[0m\u001b[0;34m\u001b[0m\u001b[0;34m\u001b[0m\u001b[0m\n\u001b[0;32m----> 2\u001b[0;31m \u001b[0;32mfrom\u001b[0m \u001b[0maim_perception\u001b[0m \u001b[0;32mimport\u001b[0m \u001b[0mInferenceEvaluation\u001b[0m\u001b[0;34m\u001b[0m\u001b[0;34m\u001b[0m\u001b[0m\n\u001b[0m",
      "\u001b[0;31mImportError\u001b[0m: cannot import name 'InferenceEvaluation' from 'aim_perception' (/home/ubuntu/aim/aim-perception/aim_perception/__init__.py)"
     ]
    }
   ],
   "source": [
    "from aim_perception import pipeline\n",
    "from aim_perception.evaluation import InferenceEvaluation"
   ]
  },
  {
   "cell_type": "code",
   "execution_count": null,
   "metadata": {},
   "outputs": [],
   "source": [
    "abs_path = '/home/ubuntu/aim/vehicle_dataset'\n",
    "save_path = '/home/ubuntu/aim/aim-perception/checkpoints/resnet_18/model.pt'\n",
    "wandb_project = 'final_model'\n",
    "wandb_run = 'resnet_18'\n",
    "epochs = 40\n",
    "fine_tune_epochs=10\n",
    "image_size = 96\n",
    "batch_size = 256\n",
    "weight_decay = 1e-4\n",
    "model_name = 'resnet_18'\n",
    "model_kwargs = dict(dropout=0.05)\n",
    "swa_kwargs = dict(swa_start=30, swa_freq=1)\n",
    "\n",
    "wandb_config_updates = dict(\n",
    "    image_size=image_size,\n",
    "    batch_size=batch_size,\n",
    "    weight_decay=weight_decay,\n",
    "    resnet_size=18,\n",
    "    dropout=0.05,\n",
    "    swa_kwargs=swa_kwargs,\n",
    ")"
   ]
  },
  {
   "cell_type": "code",
   "execution_count": null,
   "metadata": {},
   "outputs": [
    {
     "name": "stdout",
     "output_type": "stream",
     "text": [
      "Train percent: 75.00150253026095\n",
      "Val percent: 14.99885807700167\n",
      "Test percent: 9.99963939273737\n"
     ]
    },
    {
     "name": "stderr",
     "output_type": "stream",
     "text": [
      "Failed to detect the name of this notebook, you can set it manually with the WANDB_NOTEBOOK_NAME environment variable to enable code saving.\n",
      "wandb: Currently logged in as: fagundo. Use `wandb login --relogin` to force relogin\n"
     ]
    },
    {
     "data": {
      "text/html": [
       "Tracking run with wandb version 0.13.5"
      ],
      "text/plain": [
       "<IPython.core.display.HTML object>"
      ]
     },
     "metadata": {},
     "output_type": "display_data"
    },
    {
     "data": {
      "text/html": [
       "Run data is saved locally in <code>/home/ubuntu/aim/aim-perception/wandb/run-20221105_170954-8ld3xazp</code>"
      ],
      "text/plain": [
       "<IPython.core.display.HTML object>"
      ]
     },
     "metadata": {},
     "output_type": "display_data"
    },
    {
     "data": {
      "text/html": [
       "Syncing run <strong><a href=\"https://wandb.ai/fagundo/final_model/runs/8ld3xazp\" target=\"_blank\">resnet_18_imagenet2022-11-05T17:09:53.162955</a></strong> to <a href=\"https://wandb.ai/fagundo/final_model\" target=\"_blank\">Weights & Biases</a> (<a href=\"https://wandb.me/run\" target=\"_blank\">docs</a>)<br/>"
      ],
      "text/plain": [
       "<IPython.core.display.HTML object>"
      ]
     },
     "metadata": {},
     "output_type": "display_data"
    },
    {
     "name": "stdout",
     "output_type": "stream",
     "text": [
      "Moving model to cuda...\n",
      "[1,   101] train loss: 2.142 | val loss: 2.010 | val bal-acc: 0.478\n",
      "[1,   201] train loss: 1.969 | val loss: 1.971 | val bal-acc: 0.517\n",
      "-------- Finished Epoch 1 --------\n",
      "[2,   101] train loss: 1.940 | val loss: 1.939 | val bal-acc: 0.541\n",
      "[2,   201] train loss: 1.909 | val loss: 1.935 | val bal-acc: 0.538\n",
      "-------- Finished Epoch 2 --------\n",
      "[3,   101] train loss: 1.907 | val loss: 1.915 | val bal-acc: 0.563\n",
      "[3,   201] train loss: 1.894 | val loss: 1.914 | val bal-acc: 0.565\n",
      "-------- Finished Epoch 3 --------\n",
      "[4,   101] train loss: 1.888 | val loss: 1.907 | val bal-acc: 0.569\n",
      "[4,   201] train loss: 1.870 | val loss: 1.899 | val bal-acc: 0.572\n",
      "-------- Finished Epoch 4 --------\n",
      "[5,   101] train loss: 1.866 | val loss: 1.889 | val bal-acc: 0.585\n",
      "[5,   201] train loss: 1.856 | val loss: 1.885 | val bal-acc: 0.588\n",
      "-------- Finished Epoch 5 --------\n",
      "[6,   101] train loss: 1.865 | val loss: 1.892 | val bal-acc: 0.590\n",
      "[6,   201] train loss: 1.839 | val loss: 1.895 | val bal-acc: 0.582\n",
      "-------- Finished Epoch 6 --------\n",
      "[7,   101] train loss: 1.844 | val loss: 1.886 | val bal-acc: 0.591\n",
      "[7,   201] train loss: 1.839 | val loss: 1.886 | val bal-acc: 0.601\n",
      "-------- Finished Epoch 7 --------\n",
      "[8,   101] train loss: 1.834 | val loss: 1.874 | val bal-acc: 0.598\n",
      "[8,   201] train loss: 1.808 | val loss: 1.874 | val bal-acc: 0.598\n",
      "-------- Finished Epoch 8 --------\n",
      "[9,   101] train loss: 1.828 | val loss: 1.869 | val bal-acc: 0.604\n",
      "[9,   201] train loss: 1.814 | val loss: 1.869 | val bal-acc: 0.601\n",
      "-------- Finished Epoch 9 --------\n",
      "[10,   101] train loss: 1.810 | val loss: 1.872 | val bal-acc: 0.603\n",
      "[10,   201] train loss: 1.820 | val loss: 1.874 | val bal-acc: 0.599\n",
      "-------- Finished Epoch 10 --------\n",
      "[11,   101] train loss: 2.103 | val loss: 2.071 | val bal-acc: 0.400\n",
      "[11,   201] train loss: 2.032 | val loss: 1.972 | val bal-acc: 0.492\n",
      "-------- Finished Epoch 11 --------\n",
      "[12,   101] train loss: 1.946 | val loss: 1.920 | val bal-acc: 0.558\n",
      "[12,   201] train loss: 1.911 | val loss: 1.856 | val bal-acc: 0.616\n",
      "-------- Finished Epoch 12 --------\n",
      "[13,   101] train loss: 1.898 | val loss: 1.857 | val bal-acc: 0.608\n",
      "[13,   201] train loss: 1.801 | val loss: 1.802 | val bal-acc: 0.666\n",
      "-------- Finished Epoch 13 --------\n",
      "[14,   101] train loss: 1.783 | val loss: 1.779 | val bal-acc: 0.691\n",
      "[14,   201] train loss: 1.781 | val loss: 1.807 | val bal-acc: 0.664\n",
      "-------- Finished Epoch 14 --------\n",
      "[15,   101] train loss: 1.763 | val loss: 1.809 | val bal-acc: 0.666\n",
      "[15,   201] train loss: 1.737 | val loss: 1.743 | val bal-acc: 0.733\n",
      "-------- Finished Epoch 15 --------\n",
      "[16,   101] train loss: 1.708 | val loss: 1.727 | val bal-acc: 0.742\n",
      "[16,   201] train loss: 1.718 | val loss: 1.742 | val bal-acc: 0.732\n",
      "-------- Finished Epoch 16 --------\n",
      "[17,   101] train loss: 1.702 | val loss: 1.725 | val bal-acc: 0.743\n",
      "[17,   201] train loss: 1.697 | val loss: 1.717 | val bal-acc: 0.757\n",
      "-------- Finished Epoch 17 --------\n",
      "[18,   101] train loss: 1.695 | val loss: 1.720 | val bal-acc: 0.746\n",
      "[18,   201] train loss: 1.687 | val loss: 1.714 | val bal-acc: 0.749\n",
      "-------- Finished Epoch 18 --------\n",
      "[19,   101] train loss: 1.680 | val loss: 1.697 | val bal-acc: 0.772\n",
      "[19,   201] train loss: 1.657 | val loss: 1.688 | val bal-acc: 0.787\n",
      "-------- Finished Epoch 19 --------\n",
      "[20,   101] train loss: 1.662 | val loss: 1.681 | val bal-acc: 0.789\n",
      "[20,   201] train loss: 1.640 | val loss: 1.684 | val bal-acc: 0.781\n",
      "-------- Finished Epoch 20 --------\n",
      "[21,   101] train loss: 1.624 | val loss: 1.660 | val bal-acc: 0.813\n",
      "[21,   201] train loss: 1.608 | val loss: 1.655 | val bal-acc: 0.816\n",
      "-------- Finished Epoch 21 --------\n",
      "[22,   101] train loss: 1.608 | val loss: 1.649 | val bal-acc: 0.823\n",
      "[22,   201] train loss: 1.573 | val loss: 1.643 | val bal-acc: 0.829\n",
      "-------- Finished Epoch 22 --------\n",
      "[23,   101] train loss: 1.582 | val loss: 1.647 | val bal-acc: 0.826\n",
      "[23,   201] train loss: 1.579 | val loss: 1.638 | val bal-acc: 0.831\n",
      "-------- Finished Epoch 23 --------\n",
      "[24,   101] train loss: 1.568 | val loss: 1.641 | val bal-acc: 0.833\n",
      "[24,   201] train loss: 1.580 | val loss: 1.635 | val bal-acc: 0.834\n",
      "-------- Finished Epoch 24 --------\n",
      "[25,   101] train loss: 1.591 | val loss: 1.643 | val bal-acc: 0.832\n",
      "[25,   201] train loss: 1.552 | val loss: 1.635 | val bal-acc: 0.836\n",
      "-------- Finished Epoch 25 --------\n",
      "[26,   101] train loss: 1.568 | val loss: 1.633 | val bal-acc: 0.838\n",
      "[26,   201] train loss: 1.544 | val loss: 1.636 | val bal-acc: 0.838\n",
      "-------- Finished Epoch 26 --------\n",
      "[27,   101] train loss: 1.576 | val loss: 1.632 | val bal-acc: 0.836\n",
      "[27,   201] train loss: 1.548 | val loss: 1.636 | val bal-acc: 0.836\n",
      "-------- Finished Epoch 27 --------\n",
      "[28,   101] train loss: 1.570 | val loss: 1.636 | val bal-acc: 0.836\n",
      "[28,   201] train loss: 1.543 | val loss: 1.633 | val bal-acc: 0.838\n",
      "-------- Finished Epoch 28 --------\n",
      "[29,   101] train loss: 1.554 | val loss: 1.631 | val bal-acc: 0.840\n",
      "[29,   201] train loss: 1.534 | val loss: 1.626 | val bal-acc: 0.841\n",
      "-------- Finished Epoch 29 --------\n",
      "[30,   101] train loss: 1.559 | val loss: 1.631 | val bal-acc: 0.843\n",
      "[30,   201] train loss: 1.536 | val loss: 1.647 | val bal-acc: 0.841\n",
      "-------- Finished Epoch 30 --------\n",
      "[31,   101] train loss: 1.562 | val loss: 1.639 | val bal-acc: 0.840\n",
      "[31,   201] train loss: 1.535 | val loss: 1.632 | val bal-acc: 0.843\n",
      "-------- Finished Epoch 31 --------\n",
      "[32,   101] train loss: 1.553 | val loss: 1.627 | val bal-acc: 0.840\n",
      "[32,   201] train loss: 1.537 | val loss: 1.627 | val bal-acc: 0.841\n",
      "-------- Finished Epoch 32 --------\n",
      "[33,   101] train loss: 1.550 | val loss: 1.630 | val bal-acc: 0.844\n",
      "[33,   201] train loss: 1.534 | val loss: 1.629 | val bal-acc: 0.841\n",
      "-------- Finished Epoch 33 --------\n",
      "[34,   101] train loss: 1.553 | val loss: 1.630 | val bal-acc: 0.844\n",
      "[34,   201] train loss: 1.529 | val loss: 1.630 | val bal-acc: 0.843\n",
      "-------- Finished Epoch 34 --------\n",
      "[35,   101] train loss: 1.549 | val loss: 1.622 | val bal-acc: 0.845\n",
      "[35,   201] train loss: 1.535 | val loss: 1.629 | val bal-acc: 0.842\n",
      "-------- Finished Epoch 35 --------\n",
      "[36,   101] train loss: 1.545 | val loss: 1.631 | val bal-acc: 0.845\n",
      "[36,   201] train loss: 1.531 | val loss: 1.626 | val bal-acc: 0.843\n",
      "-------- Finished Epoch 36 --------\n",
      "[37,   101] train loss: 1.557 | val loss: 1.635 | val bal-acc: 0.844\n",
      "[37,   201] train loss: 1.509 | val loss: 1.628 | val bal-acc: 0.843\n",
      "-------- Finished Epoch 37 --------\n",
      "[38,   101] train loss: 1.550 | val loss: 1.627 | val bal-acc: 0.846\n",
      "[38,   201] train loss: 1.517 | val loss: 1.630 | val bal-acc: 0.848\n",
      "-------- Finished Epoch 38 --------\n",
      "[39,   101] train loss: 1.540 | val loss: 1.619 | val bal-acc: 0.849\n",
      "[39,   201] train loss: 1.527 | val loss: 1.627 | val bal-acc: 0.848\n",
      "-------- Finished Epoch 39 --------\n",
      "[40,   101] train loss: 1.546 | val loss: 1.621 | val bal-acc: 0.848\n",
      "[40,   201] train loss: 1.521 | val loss: 1.623 | val bal-acc: 0.847\n",
      "-------- Finished Epoch 40 --------\n",
      "[41,   101] train loss: 1.531 | val loss: 1.620 | val bal-acc: 0.846\n",
      "[41,   201] train loss: 1.525 | val loss: 1.626 | val bal-acc: 0.847\n",
      "-------- Finished Epoch 41 --------\n",
      "[42,   101] train loss: 1.532 | val loss: 1.626 | val bal-acc: 0.845\n",
      "[42,   201] train loss: 1.513 | val loss: 1.624 | val bal-acc: 0.847\n",
      "-------- Finished Epoch 42 --------\n",
      "[43,   101] train loss: 1.538 | val loss: 1.625 | val bal-acc: 0.847\n",
      "[43,   201] train loss: 1.513 | val loss: 1.622 | val bal-acc: 0.847\n",
      "-------- Finished Epoch 43 --------\n",
      "[44,   101] train loss: 1.537 | val loss: 1.622 | val bal-acc: 0.847\n",
      "[44,   201] train loss: 1.525 | val loss: 1.627 | val bal-acc: 0.844\n",
      "-------- Finished Epoch 44 --------\n",
      "[45,   101] train loss: 1.534 | val loss: 1.625 | val bal-acc: 0.847\n",
      "[45,   201] train loss: 1.518 | val loss: 1.622 | val bal-acc: 0.848\n",
      "-------- Finished Epoch 45 --------\n",
      "[46,   101] train loss: 1.535 | val loss: 1.633 | val bal-acc: 0.846\n",
      "[46,   201] train loss: 1.516 | val loss: 1.625 | val bal-acc: 0.844\n",
      "-------- Finished Epoch 46 --------\n",
      "[47,   101] train loss: 1.535 | val loss: 1.624 | val bal-acc: 0.845\n",
      "[47,   201] train loss: 1.525 | val loss: 1.620 | val bal-acc: 0.848\n",
      "-------- Finished Epoch 47 --------\n",
      "[48,   101] train loss: 1.539 | val loss: 1.628 | val bal-acc: 0.846\n",
      "[48,   201] train loss: 1.516 | val loss: 1.626 | val bal-acc: 0.845\n",
      "-------- Finished Epoch 48 --------\n",
      "[49,   101] train loss: 1.546 | val loss: 1.625 | val bal-acc: 0.847\n",
      "[49,   201] train loss: 1.516 | val loss: 1.626 | val bal-acc: 0.847\n",
      "-------- Finished Epoch 49 --------\n",
      "[50,   101] train loss: 1.550 | val loss: 1.619 | val bal-acc: 0.849\n",
      "[50,   201] train loss: 1.518 | val loss: 1.624 | val bal-acc: 0.846\n",
      "-------- Finished Epoch 50 --------\n",
      "[51,   101] train loss: 1.532 | val loss: 1.624 | val bal-acc: 0.847\n",
      "[51,   201] train loss: 1.521 | val loss: 1.627 | val bal-acc: 0.844\n",
      "-------- Finished Epoch 51 --------\n",
      "[52,   101] train loss: 1.525 | val loss: 1.624 | val bal-acc: 0.848\n",
      "[52,   201] train loss: 1.535 | val loss: 1.625 | val bal-acc: 0.847\n",
      "-------- Finished Epoch 52 --------\n",
      "[53,   101] train loss: 1.542 | val loss: 1.621 | val bal-acc: 0.846\n",
      "[53,   201] train loss: 1.507 | val loss: 1.627 | val bal-acc: 0.845\n",
      "-------- Finished Epoch 53 --------\n",
      "[54,   101] train loss: 1.538 | val loss: 1.622 | val bal-acc: 0.843\n",
      "[54,   201] train loss: 1.508 | val loss: 1.617 | val bal-acc: 0.844\n",
      "-------- Finished Epoch 54 --------\n",
      "[55,   101] train loss: 1.535 | val loss: 1.623 | val bal-acc: 0.848\n",
      "[55,   201] train loss: 1.517 | val loss: 1.628 | val bal-acc: 0.846\n",
      "-------- Finished Epoch 55 --------\n",
      "[56,   101] train loss: 1.541 | val loss: 1.620 | val bal-acc: 0.849\n",
      "[56,   201] train loss: 1.510 | val loss: 1.636 | val bal-acc: 0.846\n",
      "-------- Finished Epoch 56 --------\n",
      "[57,   101] train loss: 1.521 | val loss: 1.625 | val bal-acc: 0.846\n",
      "[57,   201] train loss: 1.526 | val loss: 1.623 | val bal-acc: 0.845\n",
      "-------- Finished Epoch 57 --------\n",
      "[58,   101] train loss: 1.517 | val loss: 1.622 | val bal-acc: 0.848\n",
      "[58,   201] train loss: 1.535 | val loss: 1.624 | val bal-acc: 0.846\n",
      "-------- Finished Epoch 58 --------\n",
      "[59,   101] train loss: 1.537 | val loss: 1.623 | val bal-acc: 0.847\n",
      "[59,   201] train loss: 1.523 | val loss: 1.624 | val bal-acc: 0.848\n",
      "-------- Finished Epoch 59 --------\n",
      "[60,   101] train loss: 1.523 | val loss: 1.626 | val bal-acc: 0.847\n",
      "[60,   201] train loss: 1.522 | val loss: 1.633 | val bal-acc: 0.846\n",
      "-------- Finished Epoch 60 --------\n",
      "-------- Finished Training --------\n",
      "[60,   244] train loss: 0.661 | val loss: 1.634 | val bal-acc: 0.837\n"
     ]
    },
    {
     "data": {
      "text/html": [
       "Waiting for W&B process to finish... <strong style=\"color:green\">(success).</strong>"
      ],
      "text/plain": [
       "<IPython.core.display.HTML object>"
      ]
     },
     "metadata": {},
     "output_type": "display_data"
    },
    {
     "data": {
      "application/vnd.jupyter.widget-view+json": {
       "model_id": "82505bde41484d89b44b971fe9c604a4",
       "version_major": 2,
       "version_minor": 0
      },
      "text/plain": [
       "VBox(children=(Label(value='0.001 MB of 0.001 MB uploaded (0.000 MB deduped)\\r'), FloatProgress(value=1.0, max…"
      ]
     },
     "metadata": {},
     "output_type": "display_data"
    },
    {
     "data": {
      "text/html": [
       "<style>\n",
       "    table.wandb td:nth-child(1) { padding: 0 10px; text-align: left ; width: auto;} td:nth-child(2) {text-align: left ; width: 100%}\n",
       "    .wandb-row { display: flex; flex-direction: row; flex-wrap: wrap; justify-content: flex-start; width: 100% }\n",
       "    .wandb-col { display: flex; flex-direction: column; flex-basis: 100%; flex: 1; padding: 10px; }\n",
       "    </style>\n",
       "<div class=\"wandb-row\"><div class=\"wandb-col\"><h3>Run history:</h3><br/><table class=\"wandb\"><tr><td>max_val_accuracy</td><td>▁▂▃▃▃▃▃▃▄▅▆▆▇▇██████████████████████████</td></tr><tr><td>min_val_loss</td><td>█▇▆▆▆▆▅▅▅▄▃▃▂▂▁▁▁▁▁▁▁▁▁▁▁▁▁▁▁▁▁▁▁▁▁▁▁▁▁▁</td></tr><tr><td>train_loss</td><td>█▇▇▇▇▆▆▇▇▆▆▆▆▆▅▅▅▅▅▅▅▅▅▅▅▅▅▅▅▅▅▅▅▅▅▅▅▅▅▁</td></tr><tr><td>val_accuracy</td><td>▁▂▃▃▃▃▃▁▃▄▆▆▇▇██████████████████████████</td></tr><tr><td>val_loss</td><td>█▇▆▆▆▆▆▇▅▄▃▃▂▂▁▁▁▁▁▁▁▁▁▁▁▁▁▁▁▁▁▁▁▁▁▁▁▁▁▁</td></tr></table><br/></div><div class=\"wandb-col\"><h3>Run summary:</h3><br/><table class=\"wandb\"><tr><td>max_val_accuracy</td><td>0.84947</td></tr><tr><td>min_val_loss</td><td>1.61705</td></tr><tr><td>train_loss</td><td>0.66147</td></tr><tr><td>val_accuracy</td><td>0.83679</td></tr><tr><td>val_loss</td><td>1.63418</td></tr></table><br/></div></div>"
      ],
      "text/plain": [
       "<IPython.core.display.HTML object>"
      ]
     },
     "metadata": {},
     "output_type": "display_data"
    },
    {
     "data": {
      "text/html": [
       "Synced <strong style=\"color:#cdcd00\">resnet_18_imagenet2022-11-05T17:09:53.162955</strong>: <a href=\"https://wandb.ai/fagundo/final_model/runs/8ld3xazp\" target=\"_blank\">https://wandb.ai/fagundo/final_model/runs/8ld3xazp</a><br/>Synced 5 W&B file(s), 0 media file(s), 0 artifact file(s) and 0 other file(s)"
      ],
      "text/plain": [
       "<IPython.core.display.HTML object>"
      ]
     },
     "metadata": {},
     "output_type": "display_data"
    },
    {
     "data": {
      "text/html": [
       "Find logs at: <code>./wandb/run-20221105_170954-8ld3xazp/logs</code>"
      ],
      "text/plain": [
       "<IPython.core.display.HTML object>"
      ]
     },
     "metadata": {},
     "output_type": "display_data"
    },
    {
     "name": "stdout",
     "output_type": "stream",
     "text": [
      "              precision    recall  f1-score   support\n",
      "\n",
      "           0       0.87      0.84      0.85      1267\n",
      "           1       0.76      0.84      0.80       277\n",
      "           2       0.92      0.94      0.93      1192\n",
      "           3       0.92      0.87      0.89      4548\n",
      "           4       0.72      0.93      0.81       245\n",
      "           5       0.50      0.70      0.58       212\n",
      "           6       0.86      0.90      0.88       748\n",
      "           7       0.85      0.83      0.84      2208\n",
      "           8       0.67      0.67      0.67       638\n",
      "           9       0.77      0.85      0.81      1143\n",
      "\n",
      "    accuracy                           0.85     12478\n",
      "   macro avg       0.78      0.84      0.81     12478\n",
      "weighted avg       0.86      0.85      0.85     12478\n",
      "\n"
     ]
    }
   ],
   "source": [
    "# Load data loaders\n",
    "train_loader, val_loader, test_loader = pipeline.create_data_loaders(root_data_path=abs_path, batch_size=batch_size, image_size=(image_size, image_size))\n",
    "\n",
    "# Load model and optimizer\n",
    "torch_model, optimizer = pipeline.create_model_and_optimimzer(model_name, model_kwargs, weight_decay=weight_decay, swa_kwargs=swa_kwargs)\n",
    "\n",
    "# Train model\n",
    "model = pipeline.train_model(\n",
    "    model=torch_model,\n",
    "    optimizer=optimizer, \n",
    "    train_loader=train_loader,\n",
    "    val_loader=val_loader,\n",
    "    wandb_project=wandb_project,\n",
    "    wandb_run_name=wandb_run,\n",
    "    epochs=epochs,\n",
    "    save_path=save_path,\n",
    "    fine_tune_epochs=fine_tune_epochs,\n",
    "    wandb_config_updates=wandb_config_updates\n",
    ")\n",
    "\n",
    "# Run inference on test\n",
    "test_eval = InferenceEvaluation(model, test_loader)\n",
    "test_eval.classification_report"
   ]
  },
  {
   "cell_type": "code",
   "execution_count": null,
   "metadata": {},
   "outputs": [],
   "source": []
  }
 ],
 "metadata": {
  "kernelspec": {
   "display_name": "Python 3.8.10 64-bit",
   "language": "python",
   "name": "python3"
  },
  "language_info": {
   "codemirror_mode": {
    "name": "ipython",
    "version": 3
   },
   "file_extension": ".py",
   "mimetype": "text/x-python",
   "name": "python",
   "nbconvert_exporter": "python",
   "pygments_lexer": "ipython3",
   "version": "3.8.10"
  },
  "orig_nbformat": 4,
  "vscode": {
   "interpreter": {
    "hash": "767d51c1340bd893661ea55ea3124f6de3c7a262a8b4abca0554b478b1e2ff90"
   }
  }
 },
 "nbformat": 4,
 "nbformat_minor": 2
}
