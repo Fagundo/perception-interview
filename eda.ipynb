{
 "cells": [
  {
   "cell_type": "code",
   "execution_count": 1,
   "metadata": {},
   "outputs": [],
   "source": [
    "import os\n",
    "import torch\n",
    "import numpy as np\n",
    "import pandas as pd\n",
    "import matplotlib.pyplot as plt\n",
    "from torchvision import transforms\n",
    "from aim_perception.loading import AimDatasetConstructor"
   ]
  },
  {
   "cell_type": "code",
   "execution_count": 2,
   "metadata": {},
   "outputs": [],
   "source": [
    "root_dir = '/home/ubuntu/aim/vehicle_dataset'"
   ]
  },
  {
   "cell_type": "markdown",
   "metadata": {},
   "source": [
    "# Observe Class Distribution"
   ]
  },
  {
   "cell_type": "code",
   "execution_count": 3,
   "metadata": {},
   "outputs": [],
   "source": [
    "# Load ground truth df\n",
    "df = pd.read_csv(os.path.join(root_dir, 'ground_truth.csv'), names=['image_name', 'class'], dtype=str)"
   ]
  },
  {
   "cell_type": "code",
   "execution_count": 4,
   "metadata": {},
   "outputs": [
    {
     "data": {
      "text/html": [
       "<div>\n",
       "<style scoped>\n",
       "    .dataframe tbody tr th:only-of-type {\n",
       "        vertical-align: middle;\n",
       "    }\n",
       "\n",
       "    .dataframe tbody tr th {\n",
       "        vertical-align: top;\n",
       "    }\n",
       "\n",
       "    .dataframe thead th {\n",
       "        text-align: right;\n",
       "    }\n",
       "</style>\n",
       "<table border=\"1\" class=\"dataframe\">\n",
       "  <thead>\n",
       "    <tr style=\"text-align: right;\">\n",
       "      <th></th>\n",
       "      <th>class</th>\n",
       "      <th>class_count</th>\n",
       "    </tr>\n",
       "  </thead>\n",
       "  <tbody>\n",
       "    <tr>\n",
       "      <th>0</th>\n",
       "      <td>articulated_truck</td>\n",
       "      <td>8277</td>\n",
       "    </tr>\n",
       "    <tr>\n",
       "      <th>1</th>\n",
       "      <td>bicycle</td>\n",
       "      <td>1827</td>\n",
       "    </tr>\n",
       "    <tr>\n",
       "      <th>2</th>\n",
       "      <td>bus</td>\n",
       "      <td>8253</td>\n",
       "    </tr>\n",
       "    <tr>\n",
       "      <th>3</th>\n",
       "      <td>car</td>\n",
       "      <td>30000</td>\n",
       "    </tr>\n",
       "    <tr>\n",
       "      <th>4</th>\n",
       "      <td>motorcycle</td>\n",
       "      <td>1586</td>\n",
       "    </tr>\n",
       "    <tr>\n",
       "      <th>5</th>\n",
       "      <td>non-motorized_vehicle</td>\n",
       "      <td>1401</td>\n",
       "    </tr>\n",
       "    <tr>\n",
       "      <th>6</th>\n",
       "      <td>pedestrian</td>\n",
       "      <td>5010</td>\n",
       "    </tr>\n",
       "    <tr>\n",
       "      <th>7</th>\n",
       "      <td>pickup_truck</td>\n",
       "      <td>15000</td>\n",
       "    </tr>\n",
       "    <tr>\n",
       "      <th>8</th>\n",
       "      <td>single_unit_truck</td>\n",
       "      <td>4096</td>\n",
       "    </tr>\n",
       "    <tr>\n",
       "      <th>9</th>\n",
       "      <td>work_van</td>\n",
       "      <td>7743</td>\n",
       "    </tr>\n",
       "  </tbody>\n",
       "</table>\n",
       "</div>"
      ],
      "text/plain": [
       "                   class  class_count\n",
       "0      articulated_truck         8277\n",
       "1                bicycle         1827\n",
       "2                    bus         8253\n",
       "3                    car        30000\n",
       "4             motorcycle         1586\n",
       "5  non-motorized_vehicle         1401\n",
       "6             pedestrian         5010\n",
       "7           pickup_truck        15000\n",
       "8      single_unit_truck         4096\n",
       "9               work_van         7743"
      ]
     },
     "execution_count": 4,
     "metadata": {},
     "output_type": "execute_result"
    }
   ],
   "source": [
    "# Get counts\n",
    "df1 = df.groupby('class').count().image_name.rename('class_count').reset_index()\n",
    "df1"
   ]
  },
  {
   "cell_type": "code",
   "execution_count": 5,
   "metadata": {},
   "outputs": [
    {
     "data": {
      "text/html": [
       "<div>\n",
       "<style scoped>\n",
       "    .dataframe tbody tr th:only-of-type {\n",
       "        vertical-align: middle;\n",
       "    }\n",
       "\n",
       "    .dataframe tbody tr th {\n",
       "        vertical-align: top;\n",
       "    }\n",
       "\n",
       "    .dataframe thead th {\n",
       "        text-align: right;\n",
       "    }\n",
       "</style>\n",
       "<table border=\"1\" class=\"dataframe\">\n",
       "  <thead>\n",
       "    <tr style=\"text-align: right;\">\n",
       "      <th></th>\n",
       "      <th>class</th>\n",
       "      <th>class_count</th>\n",
       "      <th>percentage</th>\n",
       "    </tr>\n",
       "  </thead>\n",
       "  <tbody>\n",
       "    <tr>\n",
       "      <th>0</th>\n",
       "      <td>articulated_truck</td>\n",
       "      <td>8277</td>\n",
       "      <td>9.95</td>\n",
       "    </tr>\n",
       "    <tr>\n",
       "      <th>1</th>\n",
       "      <td>bicycle</td>\n",
       "      <td>1827</td>\n",
       "      <td>2.20</td>\n",
       "    </tr>\n",
       "    <tr>\n",
       "      <th>2</th>\n",
       "      <td>bus</td>\n",
       "      <td>8253</td>\n",
       "      <td>9.92</td>\n",
       "    </tr>\n",
       "    <tr>\n",
       "      <th>3</th>\n",
       "      <td>car</td>\n",
       "      <td>30000</td>\n",
       "      <td>36.06</td>\n",
       "    </tr>\n",
       "    <tr>\n",
       "      <th>4</th>\n",
       "      <td>motorcycle</td>\n",
       "      <td>1586</td>\n",
       "      <td>1.91</td>\n",
       "    </tr>\n",
       "    <tr>\n",
       "      <th>5</th>\n",
       "      <td>non-motorized_vehicle</td>\n",
       "      <td>1401</td>\n",
       "      <td>1.68</td>\n",
       "    </tr>\n",
       "    <tr>\n",
       "      <th>6</th>\n",
       "      <td>pedestrian</td>\n",
       "      <td>5010</td>\n",
       "      <td>6.02</td>\n",
       "    </tr>\n",
       "    <tr>\n",
       "      <th>7</th>\n",
       "      <td>pickup_truck</td>\n",
       "      <td>15000</td>\n",
       "      <td>18.03</td>\n",
       "    </tr>\n",
       "    <tr>\n",
       "      <th>8</th>\n",
       "      <td>single_unit_truck</td>\n",
       "      <td>4096</td>\n",
       "      <td>4.92</td>\n",
       "    </tr>\n",
       "    <tr>\n",
       "      <th>9</th>\n",
       "      <td>work_van</td>\n",
       "      <td>7743</td>\n",
       "      <td>9.31</td>\n",
       "    </tr>\n",
       "  </tbody>\n",
       "</table>\n",
       "</div>"
      ],
      "text/plain": [
       "                   class  class_count  percentage\n",
       "0      articulated_truck         8277        9.95\n",
       "1                bicycle         1827        2.20\n",
       "2                    bus         8253        9.92\n",
       "3                    car        30000       36.06\n",
       "4             motorcycle         1586        1.91\n",
       "5  non-motorized_vehicle         1401        1.68\n",
       "6             pedestrian         5010        6.02\n",
       "7           pickup_truck        15000       18.03\n",
       "8      single_unit_truck         4096        4.92\n",
       "9               work_van         7743        9.31"
      ]
     },
     "execution_count": 5,
     "metadata": {},
     "output_type": "execute_result"
    }
   ],
   "source": [
    "df1['percentage'] = round(df1.class_count / len(df) * 100, 2)\n",
    "df1"
   ]
  },
  {
   "cell_type": "markdown",
   "metadata": {},
   "source": [
    "We observe a heavy class imbalance. This can result in poor model perforrmance. We will therefore use class weights in the criterion during model training."
   ]
  },
  {
   "cell_type": "markdown",
   "metadata": {},
   "source": [
    "## Image Size\n",
    "Observe the distribution of image sizes to identify optimal size for resizing.\n",
    "\n",
    "We only use the training set, as a means to avoid leaking information into the data augmentation."
   ]
  },
  {
   "cell_type": "code",
   "execution_count": 6,
   "metadata": {},
   "outputs": [
    {
     "name": "stdout",
     "output_type": "stream",
     "text": [
      "Train percent: 75.00150253026095\n",
      "Val percent: 14.99885807700167\n",
      "Test percent: 9.99963939273737\n"
     ]
    }
   ],
   "source": [
    "dataset_constructor = AimDatasetConstructor(\n",
    "    root_dir=root_dir, \n",
    "    csv_path='ground_truth.csv',\n",
    "    data_subdir='data', \n",
    "    transforms=[]\n",
    ")"
   ]
  },
  {
   "cell_type": "code",
   "execution_count": 7,
   "metadata": {},
   "outputs": [],
   "source": [
    "# Load heights and widths\n",
    "dataset = dataset_constructor.get_train()\n",
    "\n",
    "w, h = [], []\n",
    "for image, _ in dataset:\n",
    "    array = np.array(image)\n",
    "\n",
    "    h.append(array.shape[0])\n",
    "    w.append(array.shape[1])"
   ]
  },
  {
   "cell_type": "code",
   "execution_count": 8,
   "metadata": {},
   "outputs": [
    {
     "data": {
      "image/png": "[encoded data removed]",
      "text/plain": [
       "<PIL.JpegImagePlugin.JpegImageFile image mode=RGB size=93x92>"
      ]
     },
     "execution_count": 8,
     "metadata": {},
     "output_type": "execute_result"
    }
   ],
   "source": [
    "image"
   ]
  },
  {
   "cell_type": "code",
   "execution_count": 9,
   "metadata": {},
   "outputs": [
    {
     "name": "stdout",
     "output_type": "stream",
     "text": [
      "Mdian hieght: 90.0\n"
     ]
    },
    {
     "data": {
      "image/png": "[encoded data removed]",
      "text/plain": [
       "<Figure size 432x288 with 1 Axes>"
      ]
     },
     "metadata": {
      "needs_background": "light"
     },
     "output_type": "display_data"
    }
   ],
   "source": [
    "# Observe height distribution\n",
    "plt.hist(h, bins=50)\n",
    "print(f'Mdian hieght: {np.median(h)}')"
   ]
  },
  {
   "cell_type": "code",
   "execution_count": 10,
   "metadata": {},
   "outputs": [
    {
     "name": "stdout",
     "output_type": "stream",
     "text": [
      "Mdian hieght: 121.0\n"
     ]
    },
    {
     "data": {
      "image/png": "[encoded data removed]",
      "text/plain": [
       "<Figure size 432x288 with 1 Axes>"
      ]
     },
     "metadata": {
      "needs_background": "light"
     },
     "output_type": "display_data"
    }
   ],
   "source": [
    "# Observe width distribution\n",
    "plt.hist(w, bins=50)\n",
    "print(f'Mdian hieght: {np.median(w)}')"
   ]
  },
  {
   "cell_type": "markdown",
   "metadata": {},
   "source": [
    "We observe the median height to be 90, the median width to be 121.\n",
    "\n",
    "We want to optimize the resizing to perturb the data as little as possible. Thus, we will use an image size of 126 for training."
   ]
  },
  {
   "cell_type": "markdown",
   "metadata": {},
   "source": [
    "## Channel Distribution\n",
    "We will load the torch tensors with the image resize to find the mean and standard deviation across dims.\n",
    "\n",
    "We only use the training set, as a means to avoid leaking information into the data augmentation."
   ]
  },
  {
   "cell_type": "code",
   "execution_count": 11,
   "metadata": {},
   "outputs": [
    {
     "name": "stdout",
     "output_type": "stream",
     "text": [
      "Train percent: 75.00150253026095\n",
      "Val percent: 14.99885807700167\n",
      "Test percent: 9.99963939273737\n"
     ]
    }
   ],
   "source": [
    "image_size = (126, 126)\n",
    "img_transforms = [            \n",
    "    transforms.ToTensor(),\n",
    "    transforms.Resize(size=image_size),\n",
    "]\n",
    "\n",
    "dis_constructor = AimDatasetConstructor(\n",
    "    root_dir=root_dir, \n",
    "    csv_path='ground_truth.csv',\n",
    "    data_subdir='data', \n",
    "    transforms=img_transforms\n",
    ")\n",
    "\n",
    "train_dist_dataset = dis_constructor.get_train()"
   ]
  },
  {
   "cell_type": "code",
   "execution_count": 12,
   "metadata": {},
   "outputs": [],
   "source": [
    "tensors = torch.stack([i for i, _ in train_dist_dataset])"
   ]
  },
  {
   "cell_type": "code",
   "execution_count": null,
   "metadata": {},
   "outputs": [
    {
     "name": "stdout",
     "output_type": "stream",
     "text": [
      "Mean: tensor([0.4876, 0.4846, 0.4841])\n",
      "Std: tensor([0.2448, 0.2435, 0.2481])\n"
     ]
    }
   ],
   "source": [
    "mean = tensors.mean(axis=(0, 2, 3))\n",
    "std = tensors.std(axis=(0, 2, 3))\n",
    "\n",
    "print(f'Mean: {mean}')\n",
    "print(f'Std: {std}')"
   ]
  },
  {
   "cell_type": "code",
   "execution_count": null,
   "metadata": {},
   "outputs": [],
   "source": []
  }
 ],
 "metadata": {
  "kernelspec": {
   "display_name": "Python 3.8.10 64-bit",
   "language": "python",
   "name": "python3"
  },
  "language_info": {
   "codemirror_mode": {
    "name": "ipython",
    "version": 3
   },
   "file_extension": ".py",
   "mimetype": "text/x-python",
   "name": "python",
   "nbconvert_exporter": "python",
   "pygments_lexer": "ipython3",
   "version": "3.8.10"
  },
  "orig_nbformat": 4,
  "vscode": {
   "interpreter": {
    "hash": "e7370f93d1d0cde622a1f8e1c04877d8463912d04d973331ad4851f04de6915a"
   }
  }
 },
 "nbformat": 4,
 "nbformat_minor": 2
}
